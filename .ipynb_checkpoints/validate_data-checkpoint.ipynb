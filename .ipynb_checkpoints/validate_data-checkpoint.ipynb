{
 "cells": [
  {
   "cell_type": "code",
   "execution_count": 1,
   "id": "ad2e8d9a-629b-44ef-8820-7fb3a12fea12",
   "metadata": {},
   "outputs": [],
   "source": [
    "import shutil\n",
    "import os\n",
    "import glob\n",
    "\n",
    "faces_files=glob.glob(os.path.join(\"/ssd_scratch/cvit/souvikg544/gridcorpus/faces\",\"**/*\"), \n",
    "                   recursive = False)\n",
    "i=0\n",
    "for files in faces_files[::-1]:\n",
    "    i+=1\n",
    "    s=files.split(\"/\")[-2]\n",
    "    v=files.split(\"/\")[-1]\n",
    "    \n",
    "    if not os.path.exists(os.path.join('/home2/souvikg544/souvik/exp2_l2s/sample_gridcorpus/faces',s)):\n",
    "        os.mkdir(os.path.join('/home2/souvikg544/souvik/exp2_l2s/sample_gridcorpus/faces',s))\n",
    "    source_folder = files\n",
    "    destination_folder = os.path.join('/home2/souvikg544/souvik/exp2_l2s/sample_gridcorpus/faces',s,v)\n",
    "    shutil.copytree(source_folder, destination_folder)\n",
    "    \n",
    "    # Specify the source file and destination file\n",
    "    a_path=os.path.join(\"/ssd_scratch/cvit/souvikg544/gridcorpus/transcription\",s, f\"{v}.align\")\n",
    "    if not os.path.exists(os.path.join('/home2/souvikg544/souvik/exp2_l2s/sample_gridcorpus/transcription',s)):\n",
    "        os.mkdir(os.path.join('/home2/souvikg544/souvik/exp2_l2s/sample_gridcorpus/transcription',s))\n",
    "    source_file = a_path\n",
    "    destination_file = f'/home2/souvikg544/souvik/exp2_l2s/sample_gridcorpus/transcription/{s}/{v}.align'\n",
    "    shutil.copy(source_file, destination_file)\n",
    "\n",
    "    if not os.path.exists(os.path.join('/home2/souvikg544/souvik/exp2_l2s/sample_gridcorpus/landmarks',s)):\n",
    "        os.mkdir(os.path.join('/home2/souvikg544/souvik/exp2_l2s/sample_gridcorpus/landmarks',s))\n",
    "    source_folder = os.path.join(\"/ssd_scratch/cvit/souvikg544/gridcorpus/landmarks\",s,v)\n",
    "    destination_folder = os.path.join('/home2/souvikg544/souvik/exp2_l2s/sample_gridcorpus/landmarks',s,v)\n",
    "    shutil.copytree(source_folder, destination_folder)\n",
    "\n",
    "    \n",
    "    if(i==10):\n",
    "        break\n",
    "    "
   ]
  },
  {
   "cell_type": "code",
   "execution_count": 2,
   "id": "380437f3-63d1-4690-adfb-f3436e9a5ac6",
   "metadata": {},
   "outputs": [],
   "source": [
    "import shutil\n",
    "import os\n",
    "import glob\n",
    "\n",
    "faces_files=glob.glob(os.path.join(\"/ssd_scratch/cvit/souvikg544/gridcorpus/faces\",\"**/*\"), \n",
    "                   recursive = False)\n",
    "i=0\n",
    "for files in faces_files:\n",
    "    i+=1\n",
    "    s=files.split(\"/\")[-2]\n",
    "    v=files.split(\"/\")[-1]\n",
    "    \n",
    "    if not os.path.exists(os.path.join('/home2/souvikg544/souvik/exp2_l2s/sample_gridcorpus/faces',s)):\n",
    "        os.mkdir(os.path.join('/home2/souvikg544/souvik/exp2_l2s/sample_gridcorpus/faces',s))\n",
    "    source_folder = files\n",
    "    destination_folder = os.path.join('/home2/souvikg544/souvik/exp2_l2s/sample_gridcorpus/faces',s,v)\n",
    "    shutil.copytree(source_folder, destination_folder)\n",
    "    \n",
    "    # Specify the source file and destination file\n",
    "    a_path=os.path.join(\"/ssd_scratch/cvit/souvikg544/gridcorpus/transcription\",s, f\"{v}.align\")\n",
    "    if not os.path.exists(os.path.join('/home2/souvikg544/souvik/exp2_l2s/sample_gridcorpus/transcription',s)):\n",
    "        os.mkdir(os.path.join('/home2/souvikg544/souvik/exp2_l2s/sample_gridcorpus/transcription',s))\n",
    "    source_file = a_path\n",
    "    destination_file = f'/home2/souvikg544/souvik/exp2_l2s/sample_gridcorpus/transcription/{s}/{v}.align'\n",
    "    shutil.copy(source_file, destination_file)\n",
    "\n",
    "    if not os.path.exists(os.path.join('/home2/souvikg544/souvik/exp2_l2s/sample_gridcorpus/landmarks',s)):\n",
    "        os.mkdir(os.path.join('/home2/souvikg544/souvik/exp2_l2s/sample_gridcorpus/landmarks',s))\n",
    "    source_folder = os.path.join(\"/ssd_scratch/cvit/souvikg544/gridcorpus/landmarks\",s,v)\n",
    "    destination_folder = os.path.join('/home2/souvikg544/souvik/exp2_l2s/sample_gridcorpus/landmarks',s,v)\n",
    "    shutil.copytree(source_folder, destination_folder)\n",
    "\n",
    "    \n",
    "    if(i==10):\n",
    "        break\n",
    "    "
   ]
  },
  {
   "cell_type": "code",
   "execution_count": 3,
   "id": "c9da8302-28fb-4414-a248-4eb7e991fcc2",
   "metadata": {},
   "outputs": [],
   "source": [
    "import shutil\n",
    "import os\n",
    "import glob\n",
    "\n",
    "faces_files=glob.glob(os.path.join(\"/ssd_scratch/cvit/souvikg544/gridcorpus/faces\",\"**/*\"), \n",
    "                   recursive = False)\n",
    "i=0\n",
    "for files in faces_files[::-1]:\n",
    "    i+=1\n",
    "    s=files.split(\"/\")[-2]\n",
    "    v=files.split(\"/\")[-1]\n",
    "    \n",
    "    \n",
    "    # Specify the source file and destination file\n",
    "    a_path=os.path.join(\"/ssd_scratch/cvit/souvikg544/gridcorpus/video\",s, f\"{v}.mpg\")\n",
    "    if not os.path.exists(os.path.join('/home2/souvikg544/souvik/exp2_l2s/sample_gridcorpus/video',s)):\n",
    "        os.mkdir(os.path.join('/home2/souvikg544/souvik/exp2_l2s/sample_gridcorpus/video',s))\n",
    "    source_file = a_path\n",
    "    destination_file = f'/home2/souvikg544/souvik/exp2_l2s/sample_gridcorpus/video/{s}/{v}.mpg'\n",
    "    shutil.copy(source_file, destination_file)\n",
    "\n",
    "\n",
    "    \n",
    "    if(i==10):\n",
    "        break\n",
    "    "
   ]
  },
  {
   "cell_type": "code",
   "execution_count": 4,
   "id": "bb3e8555-ea96-437a-a204-52b0ec5c6614",
   "metadata": {},
   "outputs": [],
   "source": [
    "import shutil\n",
    "import os\n",
    "import glob\n",
    "\n",
    "faces_files=glob.glob(os.path.join(\"/ssd_scratch/cvit/souvikg544/gridcorpus/faces\",\"**/*\"), \n",
    "                   recursive = False)\n",
    "i=0\n",
    "for files in faces_files:\n",
    "    i+=1\n",
    "    s=files.split(\"/\")[-2]\n",
    "    v=files.split(\"/\")[-1]\n",
    "    \n",
    "    \n",
    "    # Specify the source file and destination file\n",
    "    a_path=os.path.join(\"/ssd_scratch/cvit/souvikg544/gridcorpus/video\",s, f\"{v}.mpg\")\n",
    "    if not os.path.exists(os.path.join('/home2/souvikg544/souvik/exp2_l2s/sample_gridcorpus/video',s)):\n",
    "        os.mkdir(os.path.join('/home2/souvikg544/souvik/exp2_l2s/sample_gridcorpus/video',s))\n",
    "    source_file = a_path\n",
    "    destination_file = f'/home2/souvikg544/souvik/exp2_l2s/sample_gridcorpus/video/{s}/{v}.mpg'\n",
    "    shutil.copy(source_file, destination_file)\n",
    "\n",
    "\n",
    "    \n",
    "    if(i==10):\n",
    "        break\n",
    "    "
   ]
  },
  {
   "cell_type": "markdown",
   "id": "a5f23bff-7551-4f0d-ad52-b5b95a70199a",
   "metadata": {},
   "source": [
    "## Data Validation"
   ]
  },
  {
   "cell_type": "code",
   "execution_count": 8,
   "id": "033164c6-e9fe-4d77-a222-072ed629d80e",
   "metadata": {},
   "outputs": [],
   "source": [
    "import mediapipe as mp\n",
    "from mediapipe.tasks import python\n",
    "from mediapipe.tasks.python import vision\n",
    "import numpy as np\n",
    "import matplotlib.pyplot as plt\n",
    "import cv2"
   ]
  },
  {
   "cell_type": "code",
   "execution_count": 9,
   "id": "74900c29-621b-4949-811f-8c0a7d40f8f9",
   "metadata": {},
   "outputs": [],
   "source": [
    "landmark_model_path=\"face_landmarker.task\"\n",
    "BaseOptions = mp.tasks.BaseOptions\n",
    "FaceLandmarker = mp.tasks.vision.FaceLandmarker\n",
    "FaceLandmarkerOptions = mp.tasks.vision.FaceLandmarkerOptions\n",
    "VisionRunningMode = mp.tasks.vision.RunningMode\n",
    "\n",
    "def get_landmark(c_image):\n",
    "    options = FaceLandmarkerOptions(\n",
    "    base_options=BaseOptions(model_asset_path=landmark_model_path),\n",
    "    running_mode=VisionRunningMode.IMAGE,\n",
    "    output_face_blendshapes=True\n",
    "    )\n",
    "\n",
    "    with FaceLandmarker.create_from_options(options) as landmarker:\n",
    "        face_landmarker_result = landmarker.detect(c_image)\n",
    "    return face_landmarker_result\n",
    "\n",
    "def calc_coordinate(face_landmarker_result):\n",
    "    coordinates=[]\n",
    "    for land in face_landmarker_result.face_landmarks:\n",
    "        for j in range(0,len(land),1):\n",
    "            i=land[j]\n",
    "            #if(True):\n",
    "            if(i.y >0.55):\n",
    "                coordinates.append(j)\n",
    "    return coordinates\n",
    "    "
   ]
  },
  {
   "cell_type": "code",
   "execution_count": 15,
   "id": "dc9ba2c6-df01-4142-abcc-63b47b73d702",
   "metadata": {},
   "outputs": [
    {
     "name": "stderr",
     "output_type": "stream",
     "text": [
      "W20230912 13:22:23.689759 29802 face_landmarker_graph.cc:168] Face blendshape model contains CPU only ops. Sets FaceBlendshapesGraph acceleration to Xnnpack.\n"
     ]
    }
   ],
   "source": [
    "\n",
    "cap = cv2.VideoCapture(\"/home2/souvikg544/souvik/exp2_l2s/sample_gridcorpus/video/s26/bgbsza.mpg\")\n",
    "if not cap.isOpened():\n",
    "    print(\"Error: Could not open video ------\")\n",
    "    \n",
    "k=0    \n",
    "while cap.isOpened():\n",
    "    k+=1\n",
    "    ret, frame = cap.read()\n",
    "    if not ret:\n",
    "        break\n",
    "    frame=cv2.cvtColor(frame, cv2.COLOR_BGR2RGB)\n",
    "    if(k==2):\n",
    "        mp_image = mp.Image(image_format=mp.ImageFormat.SRGB, data=frame)\n",
    "        landmarker1=get_landmark(mp_image)\n",
    "        res=np.empty((0, 3), dtype=float)\n",
    "        land=landmarker1.face_landmarks[0]\n",
    "        for j in range(0,len(land),1):\n",
    "            i=land[j]\n",
    "            #if(j in coordinates):\n",
    "            row=np.array([i.x,i.y,i.z])\n",
    "            res = np.vstack((res, row))\n",
    "        break\n"
   ]
  },
  {
   "cell_type": "code",
   "execution_count": 16,
   "id": "35cc65a7-8295-4792-a0d0-ddce0e0bd6df",
   "metadata": {},
   "outputs": [],
   "source": [
    "r=np.load(\"/home2/souvikg544/souvik/exp2_l2s/sample_gridcorpus/landmarks/s26/bgbsza/2_landmark.npy\")"
   ]
  },
  {
   "cell_type": "code",
   "execution_count": 17,
   "id": "c045ea14-cb00-493b-9a24-9d143010e07c",
   "metadata": {},
   "outputs": [
    {
     "data": {
      "text/plain": [
       "array([[ True,  True,  True],\n",
       "       [ True,  True,  True],\n",
       "       [ True,  True,  True],\n",
       "       ...,\n",
       "       [ True,  True,  True],\n",
       "       [ True,  True,  True],\n",
       "       [ True,  True,  True]])"
      ]
     },
     "execution_count": 17,
     "metadata": {},
     "output_type": "execute_result"
    }
   ],
   "source": [
    "res==r"
   ]
  },
  {
   "cell_type": "code",
   "execution_count": 9,
   "id": "a6c54acd-9c1b-40b7-b45a-b90bec07e270",
   "metadata": {},
   "outputs": [
    {
     "name": "stdout",
     "output_type": "stream",
     "text": [
      "lrau5s s31\n",
      "lay\n",
      "red\n",
      "at\n",
      "u\n",
      "five\n",
      "soon\n"
     ]
    }
   ],
   "source": [
    "import torch\n",
    "import torch.optim as optim\n",
    "import torch.nn as nn\n",
    "from dataloader import landmarknet_data\n",
    "#from landmarknetmodel import landmarknet_model\n",
    "from tqdm import tqdm\n",
    "from torch.utils.data import Dataset, DataLoader,SubsetRandomSampler\n",
    "import os\n",
    "import pickle\n",
    "\n",
    "\n",
    "# file_name = 'vocab_dict.pkl'\n",
    "\n",
    "# with open(file_name, 'rb') as file:\n",
    "#     word_label_dict = pickle.load(file)\n",
    "\n",
    "# model_path=\"/ssd_scratch/cvit/souvikg544/checkpoints_lipnet/exp6_big/model_179.pth\"\n",
    "# device = torch.device(\"cuda\" if torch.cuda.is_available() else \"cpu\")\n",
    "root_folder = '/home2/souvikg544/souvik/exp2_l2s/sample_gridcorpus/'\n",
    "dataset = landmarknet_data(root_folder)\n",
    "dataset_size=len(dataset)\n",
    "\n",
    "a,b=dataset.__getitem__(2)"
   ]
  },
  {
   "cell_type": "code",
   "execution_count": 10,
   "id": "215b9b12-b9be-44a2-8ec9-661d117bc320",
   "metadata": {},
   "outputs": [
    {
     "data": {
      "text/plain": [
       "tensor([[ 4.6079e-01,  6.9843e-01, -4.3722e-02,  ...,  3.5158e-04,\n",
       "          5.5294e-05,  1.4848e-05],\n",
       "        [ 4.6018e-01,  6.9892e-01, -4.3227e-02,  ...,  2.9872e-04,\n",
       "          6.1049e-05,  1.9713e-05],\n",
       "        [ 4.6024e-01,  6.9923e-01, -4.3273e-02,  ...,  3.2209e-04,\n",
       "          6.4390e-05,  2.0059e-05],\n",
       "        ...,\n",
       "        [ 4.5845e-01,  6.9302e-01, -4.3259e-02,  ...,  1.4320e-03,\n",
       "          6.5786e-05,  2.1801e-05],\n",
       "        [ 4.5803e-01,  6.9291e-01, -4.3482e-02,  ...,  1.1677e-03,\n",
       "          6.2283e-05,  1.9285e-05],\n",
       "        [ 4.5792e-01,  6.9295e-01, -4.3430e-02,  ...,  1.0745e-03,\n",
       "          5.7247e-05,  1.8925e-05]])"
      ]
     },
     "execution_count": 10,
     "metadata": {},
     "output_type": "execute_result"
    }
   ],
   "source": [
    "a"
   ]
  },
  {
   "cell_type": "code",
   "execution_count": 11,
   "id": "02061d80-d3bf-4c88-b36f-24c79f503aed",
   "metadata": {},
   "outputs": [
    {
     "data": {
      "text/plain": [
       "tensor([ 0., 34., 37., 28., 42., 10.])"
      ]
     },
     "execution_count": 11,
     "metadata": {},
     "output_type": "execute_result"
    }
   ],
   "source": [
    "b"
   ]
  },
  {
   "cell_type": "code",
   "execution_count": null,
   "id": "b17a7c72-7c0c-409c-964f-5e8b95384105",
   "metadata": {},
   "outputs": [],
   "source": []
  }
 ],
 "metadata": {
  "kernelspec": {
   "display_name": "va",
   "language": "python",
   "name": "va"
  },
  "language_info": {
   "codemirror_mode": {
    "name": "ipython",
    "version": 3
   },
   "file_extension": ".py",
   "mimetype": "text/x-python",
   "name": "python",
   "nbconvert_exporter": "python",
   "pygments_lexer": "ipython3",
   "version": "3.10.12"
  }
 },
 "nbformat": 4,
 "nbformat_minor": 5
}
